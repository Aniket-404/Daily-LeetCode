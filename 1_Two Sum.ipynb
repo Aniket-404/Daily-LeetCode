{
 "cells": [
  {
   "cell_type": "markdown",
   "metadata": {},
   "source": [
    "**1. Two Sum**\n",
    "Given an array of integers nums and an integer target, return indices of the two numbers such that they add up to target.\n",
    "\n",
    "You may assume that each input would have exactly one solution, and you may not use the same element twice.\n",
    "\n",
    "You can return the answer in any order.\n",
    "\n",
    " \n",
    "\n",
    "Example 1:\n",
    "\n",
    "Input: nums = [2,7,11,15], target = 9\n",
    "Output: [0,1]\n",
    "Explanation: Because nums[0] + nums[1] == 9, we return [0, 1].\n",
    "Example 2:\n",
    "\n",
    "Input: nums = [3,2,4], target = 6\n",
    "Output: [1,2]\n",
    "Example 3:\n",
    "\n",
    "Input: nums = [3,3], target = 6\n",
    "Output: [0,1]"
   ]
  },
  {
   "cell_type": "code",
   "execution_count": null,
   "metadata": {},
   "outputs": [],
   "source": [
    "from typing import List\n",
    "\n",
    "class Solution:\n",
    "    def twoSum(self, nums: List[int], target: int) -> List[int]:\n",
    "        num_to_index = {}\n",
    "        \n",
    "        for i, num in enumerate(nums):\n",
    "            complement = target - num\n",
    "            \n",
    "            if complement in num_to_index:\n",
    "                return [num_to_index[complement], i]\n",
    "            \n",
    "            num_to_index[num] = i\n",
    "        \n",
    "        raise ValueError(\"No two sum solution\")\n",
    "\n",
    "solution = Solution()\n",
    "print(solution.twoSum([2, 7, 11, 15], 9))  \n",
    "print(solution.twoSum([3, 2, 4], 6))       \n",
    "print(solution.twoSum([3, 3], 6))          \n"
   ]
  }
 ],
 "metadata": {
  "language_info": {
   "name": "python"
  }
 },
 "nbformat": 4,
 "nbformat_minor": 2
}
