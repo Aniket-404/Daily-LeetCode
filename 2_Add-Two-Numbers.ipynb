{
 "cells": [
  {
   "cell_type": "markdown",
   "metadata": {},
   "source": [
    "**2. Add Two Numbers**\n",
    "You are given two non-empty linked lists representing two non-negative integers. The digits are stored in reverse order, and each of their nodes contains a single digit. Add the two numbers and return the sum as a linked list.\n",
    "\n",
    "You may assume the two numbers do not contain any leading zero, except the number 0 itself.\n",
    "\n",
    "Example :\n",
    "\n",
    "Input: l1 = [2,4,3], l2 = [5,6,4]\n",
    "Output: [7,0,8]\n",
    "Explanation: 342 + 465 = 807.\n",
    "Example 2:\n",
    "\n",
    "Input: l1 = [0], l2 = [0]\n",
    "Output: [0]\n",
    "Example 3:\n",
    "\n",
    "Input: l1 = [9,9,9,9,9,9,9], l2 = [9,9,9,9]\n",
    "Output: [8,9,9,9,0,0,0,1]"
   ]
  },
  {
   "cell_type": "code",
   "execution_count": null,
   "metadata": {
    "vscode": {
     "languageId": "plaintext"
    }
   },
   "outputs": [],
   "source": [
    "class ListNode:\n",
    "    def __init__(self, val=0, next=None):\n",
    "        self.val = val\n",
    "        self.next = next\n",
    "\n",
    "class Solution:\n",
    "    def addTwoNumbers(self, l1: Optional[ListNode], l2: Optional[ListNode]) -> Optional[ListNode]:\n",
    "        dummy_head = ListNode(0)\n",
    "        current = dummy_head\n",
    "        carry = 0\n",
    "        \n",
    "        while l1 is not None or l2 is not None:\n",
    "            val1 = l1.val if l1 is not None else 0\n",
    "            val2 = l2.val if l2 is not None else 0\n",
    "            \n",
    "            total = val1 + val2 + carry\n",
    "            carry = total // 10\n",
    "            new_val = total % 10\n",
    "            \n",
    "            current.next = ListNode(new_val)\n",
    "            current = current.next\n",
    "            \n",
    "            if l1 is not None:\n",
    "                l1 = l1.next\n",
    "            if l2 is not None:\n",
    "                l2 = l2.next\n",
    "        \n",
    "        if carry > 0:\n",
    "            current.next = ListNode(carry)\n",
    "        \n",
    "        return dummy_head.next\n",
    "\n",
    "def create_linked_list(nums):\n",
    "    dummy_head = ListNode(0)\n",
    "    current = dummy_head\n",
    "    for num in nums:\n",
    "        current.next = ListNode(num)\n",
    "        current = current.next\n",
    "    return dummy_head.next\n",
    "\n",
    "def print_linked_list(node):\n",
    "    nums = []\n",
    "    while node is not None:\n",
    "        nums.append(node.val)\n",
    "        node = node.next\n",
    "    print(nums)\n",
    "\n",
    "l1 = create_linked_list([2, 4, 3])\n",
    "l2 = create_linked_list([5, 6, 4])\n",
    "solution = Solution()\n",
    "result = solution.addTwoNumbers(l1, l2)\n",
    "print_linked_list(result) \n",
    "\n",
    "l1 = create_linked_list([0])\n",
    "l2 = create_linked_list([0])\n",
    "result = solution.addTwoNumbers(l1, l2)\n",
    "print_linked_list(result) \n",
    "\n",
    "l1 = create_linked_list([9, 9, 9, 9, 9, 9, 9])\n",
    "l2 = create_linked_list([9, 9, 9, 9])\n",
    "result = solution.addTwoNumbers(l1, l2)\n",
    "print_linked_list(result) \n"
   ]
  }
 ],
 "metadata": {
  "language_info": {
   "name": "python"
  }
 },
 "nbformat": 4,
 "nbformat_minor": 2
}
