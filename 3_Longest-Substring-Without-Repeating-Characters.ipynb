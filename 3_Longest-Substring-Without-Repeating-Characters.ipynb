{
 "cells": [
  {
   "cell_type": "markdown",
   "metadata": {},
   "source": [
    "**3. Longest Substring Without Repeating Characters**\n",
    "\n",
    "Given a string s, find the length of the longest substring without repeating characters.\n",
    "\n",
    "Example:\n",
    "\n",
    "Input: s = \"abcabcbb\"\n",
    "Output: 3\n",
    "Explanation: The answer is \"abc\", with the length of 3.\n",
    "Example 2:\n",
    "\n",
    "Input: s = \"bbbbb\"\n",
    "Output: 1\n",
    "Explanation: The answer is \"b\", with the length of 1.\n",
    "Example 3:\n",
    "\n",
    "Input: s = \"pwwkew\"\n",
    "Output: 3\n",
    "Explanation: The answer is \"wke\", with the length of 3.\n",
    "Notice that the answer must be a substring, \"pwke\" is a subsequence and not a substring."
   ]
  },
  {
   "cell_type": "code",
   "execution_count": null,
   "metadata": {},
   "outputs": [],
   "source": [
    "class Solution:\n",
    "    def lengthOfLongestSubstring(self, s: str) -> int:\n",
    "        char_index_map = {}\n",
    "        max_length = 0\n",
    "        start = 0\n",
    "        \n",
    "        for end in range(len(s)):\n",
    "            char = s[end]\n",
    "            if char in char_index_map and char_index_map[char] >= start:\n",
    "                start = char_index_map[char] + 1\n",
    "            \n",
    "            char_index_map[char] = end\n",
    "            \n",
    "            max_length = max(max_length, end - start + 1)\n",
    "        \n",
    "        return max_length\n",
    "\n",
    "solution = Solution()\n",
    "print(solution.lengthOfLongestSubstring(\"abcabcbb\")) \n",
    "print(solution.lengthOfLongestSubstring(\"bbbbb\"))   \n",
    "print(solution.lengthOfLongestSubstring(\"pwwkew\"))  \n"
   ]
  }
 ],
 "metadata": {
  "language_info": {
   "name": "python"
  }
 },
 "nbformat": 4,
 "nbformat_minor": 2
}
